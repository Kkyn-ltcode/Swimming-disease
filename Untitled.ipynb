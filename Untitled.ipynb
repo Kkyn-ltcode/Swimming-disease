{
 "cells": [
  {
   "cell_type": "code",
   "execution_count": 41,
   "id": "a048b2dc-fbd0-4ccd-bcdd-0bb290400bf9",
   "metadata": {},
   "outputs": [],
   "source": [
    "import pandas as pd\n",
    "import numpy as np"
   ]
  },
  {
   "cell_type": "code",
   "execution_count": 42,
   "id": "33b4191a-22aa-4418-a0b3-c7b87279449a",
   "metadata": {
    "tags": []
   },
   "outputs": [],
   "source": [
    "data = pd.DataFrame()\n",
    "\n",
    "data['age'] = np.random.randint(15, 30, size=1000)\n",
    "\n",
    "data['gender'] = np.random.choice(['Male', 'Female'], size=1000, p=[0.5, 0.5])\n",
    "\n",
    "data['swimming_time'] = np.random.randint(1800, 7200, size=1000)\n",
    "\n",
    "data['conjunctiva_swelling'] = np.random.choice([1, 0], size=1000, p=[0.2, 0.8])\n",
    "\n",
    "data['eye_itching'] = data['conjunctiva_swelling'].apply(lambda x: np.random.choice([1, 0], size=1, p=[0.7, 0.3])[0] if x == 1 else np.random.choice([1, 0], size=1, p=[0.2, 0.8])[0])\n",
    "\n",
    "data['eye_tearing'] = data['conjunctiva_swelling'].apply(lambda x: np.random.choice([1, 0], size=1, p=[0.5, 0.5])[0] if x == 1 else np.random.choice([1, 0], size=1, p=[0.2, 0.8])[0])\n",
    "\n",
    "data['bloody_waste'] = np.random.choice([1, 0], size=1000, p=[0.25, 0.75])\n",
    "\n",
    "data['stomach_cramps'] = data['bloody_waste'].apply(lambda x: np.random.choice([1, 0], size=1, p=[0.7, 0.3])[0] if x == 1 else np.random.choice([1, 0], size=1, p=[0.2, 0.8])[0])\n",
    "\n",
    "data['fever'] = np.random.choice([1, 0], size=1000, p=[0.3, 0.7])\n",
    "\n",
    "data['ear_pus'] = np.random.choice([1, 0], size=1000, p=[0.2, 0.8])\n",
    "\n",
    "data['ear_pain'] = data['ear_pus'].apply(lambda x: np.random.choice([1, 0], size=1, p=[0.7, 0.3])[0] if x == 1 else np.random.choice([1, 0], size=1, p=[0.4, 0.6])[0])\n",
    "\n",
    "data['ear_itching'] = data['ear_pus'].apply(lambda x: np.random.choice([1, 0], size=1, p=[0.5, 0.5])[0] if x == 1 else np.random.choice([1, 0], size=1, p=[0.3, 0.7])[0])\n",
    "\n",
    "data['temporary_loss_hearing'] = data['ear_pus'].apply(lambda x: np.random.choice([1, 0], size=1, p=[0.6, 0.4])[0] if x == 1 else np.random.choice([1, 0], size=1, p=[0.1, 0.9])[0])\n",
    "\n",
    "data['infection_skin'] = np.random.choice([1, 0], size=1000, p=[0.2, 0.8])\n",
    "\n",
    "data['skin_redness'] = data['infection_skin'].apply(lambda x: np.random.choice([1, 0], size=1, p=[0.6, 0.4])[0] if x == 1 else np.random.choice([1, 0], size=1, p=[0.3, 0.7])[0])\n",
    "\n",
    "data['skin_itching'] = data['infection_skin'].apply(lambda x: np.random.choice([1, 0], size=1, p=[0.5, 0.5])[0] if x == 1 else np.random.choice([1, 0], size=1, p=[0.3, 0.7])[0])\n",
    "\n",
    "data['pus_blisters_in_skin'] = data['infection_skin'].apply(lambda x: np.random.choice([1, 0], size=1, p=[0.9, 0.1])[0] if x == 1 else np.random.choice([1, 0], size=1, p=[0.05, 0.95])[0])\n",
    "\n",
    "data['bloody_urine'] = np.random.choice([1, 0], size=1000, p=[0.15, 0.85])\n",
    "\n",
    "data['pain_while_urinating'] = data['bloody_urine'].apply(lambda x: np.random.choice([1, 0], size=1, p=[0.95, 0.05])[0] if x == 1 else np.random.choice([1, 0], size=1, p=[0.05, 0.95])[0])\n",
    "\n",
    "data['frequent_urination'] = data['bloody_urine'].apply(lambda x: np.random.choice([1, 0], size=1, p=[0.3, 0.7])[0] if x == 1 else np.random.choice([1, 0], size=1, p=[0.5, 0.5])[0])\n",
    "\n",
    "data['pink_eye'] = data['conjunctiva_swelling'].apply(lambda x: np.random.choice([1, 0], size=1, p=[0.9, 0.1])[0] if x == 1 else np.random.choice([1, 0], size=1, p=[0.05, 0.95])[0])\n",
    "data['diarrhea'] = data['bloody_waste'].apply(lambda x: np.random.choice([1, 0], size=1, p=[0.95, 0.05])[0] if x == 1 else np.random.choice([1, 0], size=1, p=[0.05, 0.95])[0])\n",
    "data['otitis_externa'] = data['ear_pus'].apply(lambda x: np.random.choice([1, 0], size=1, p=[0.8, 0.2])[0] if x == 1 else np.random.choice([1, 0], size=1, p=[0.05, 0.95])[0])\n",
    "data['skin_rash'] = data['infection_skin'].apply(lambda x: np.random.choice([1, 0], size=1, p=[0.8, 0.2])[0] if x == 1 else np.random.choice([1, 0], size=1, p=[0.05, 0.95])[0])\n",
    "data['urinary_tract_infection'] = data['bloody_urine'].apply(lambda x: np.random.choice([1, 0], size=1, p=[0.9, 0.1])[0] if x == 1 else np.random.choice([1, 0], size=1, p=[0, 1.0])[0])"
   ]
  },
  {
   "cell_type": "code",
   "execution_count": 46,
   "id": "cec3de80-eb54-4e89-9879-23841be5ae53",
   "metadata": {},
   "outputs": [],
   "source": [
    "data.to_csv('data/data.csv', index=False)"
   ]
  }
 ],
 "metadata": {
  "kernelspec": {
   "display_name": "Python 3 (ipykernel)",
   "language": "python",
   "name": "python3"
  },
  "language_info": {
   "codemirror_mode": {
    "name": "ipython",
    "version": 3
   },
   "file_extension": ".py",
   "mimetype": "text/x-python",
   "name": "python",
   "nbconvert_exporter": "python",
   "pygments_lexer": "ipython3",
   "version": "3.8.13"
  }
 },
 "nbformat": 4,
 "nbformat_minor": 5
}
